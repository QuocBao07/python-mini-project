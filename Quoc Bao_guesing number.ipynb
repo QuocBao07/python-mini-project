{
 "cells": [
  {
   "cell_type": "markdown",
   "metadata": {},
   "source": [
    "### Trong project này, chúng ta sẽ làm 1 trò chơi nhỏ mang tên đoán số. Cụ thể, Máy tính sẽ chọn random 1 số từ 1 đến 10. \n",
    "### Chúng ta sẽ đoán máy tính chọn số bao nhiêu?\n",
    "#### - Nếu số chúng ta đoán thấp hơn máy tính thì in ra \"your guess is too low\"\n",
    "#### - Nếu số chúng ta đoán cao hơn máy tính thì in ra \"your guess is too high\"\n",
    "#### - Nếu chúng ta đoán đúng số thì in ra \"you got the right number after\" xx \"tries\" trong đó xx là số lần đoán.\n",
    "#### - Trường hợp 5 lần đoán sai thì sẽ dừng trò chơi và in ra \"Gameover!!! The number was yy\" trong đó yy là số mà máy tính chọn\n",
    "\n",
    "#### Những kiến thức cover trong project này: input(), print(), while loop, if else, break."
   ]
  },
  {
   "cell_type": "code",
   "execution_count": 4,
   "metadata": {},
   "outputs": [],
   "source": [
    "import random"
   ]
  },
  {
   "cell_type": "code",
   "execution_count": 6,
   "metadata": {},
   "outputs": [
    {
     "name": "stdout",
     "output_type": "stream",
     "text": [
      "Hello, What is your name?\n",
      "Bao\n",
      "Hi, WelcomeBaoto the guessing game\n"
     ]
    }
   ],
   "source": [
    "# generate random number\n",
    "computer_num = random.randint(1,10)\n",
    "guessesTaken = 0\n",
    "# ask player name\n",
    "print('Hello, What is your name?')\n",
    "player_name = input()\n",
    "# Say hi and welcome player to the guessing game\n",
    "print('Hi, Welcome' +  player_name  + 'to the guessing game')\n"
   ]
  },
  {
   "cell_type": "code",
   "execution_count": 7,
   "metadata": {},
   "outputs": [
    {
     "name": "stdout",
     "output_type": "stream",
     "text": [
      "Please guess.\n",
      "5\n",
      "your guess is too low\n",
      "Please guess.\n",
      "6\n",
      "your guess is too low\n",
      "Please guess.\n",
      "8\n",
      "your guess is too high\n",
      "Please guess.\n",
      "7\n",
      "you got the right number after4tries\n"
     ]
    }
   ],
   "source": [
    "# develop while loop\n",
    "while guessesTaken < 6:\n",
    "    print('Please guess.')\n",
    "    guess = int(input()) \n",
    "    guessesTaken += 1\n",
    "    if guess < computer_num:\n",
    "        print('your guess is too low') \n",
    "    elif guess > computer_num:\n",
    "        print('your guess is too high')\n",
    "    else:\n",
    "        break \n",
    "        \n",
    "# guess = computer number        \n",
    "if guess == computer_num:\n",
    "  print('you got the right number after'+ str(guessesTaken) + 'tries')\n",
    "\n",
    "# guess times > 5    \n",
    "else:\n",
    "  print('Gameover!!! The number was' + str(computer_num))"
   ]
  },
  {
   "cell_type": "code",
   "execution_count": null,
   "metadata": {},
   "outputs": [],
   "source": []
  },
  {
   "cell_type": "code",
   "execution_count": null,
   "metadata": {},
   "outputs": [],
   "source": []
  },
  {
   "cell_type": "code",
   "execution_count": null,
   "metadata": {},
   "outputs": [],
   "source": []
  },
  {
   "cell_type": "code",
   "execution_count": null,
   "metadata": {},
   "outputs": [],
   "source": []
  }
 ],
 "metadata": {
  "kernelspec": {
   "display_name": "Python 3 (ipykernel)",
   "language": "python",
   "name": "python3"
  },
  "language_info": {
   "codemirror_mode": {
    "name": "ipython",
    "version": 3
   },
   "file_extension": ".py",
   "mimetype": "text/x-python",
   "name": "python",
   "nbconvert_exporter": "python",
   "pygments_lexer": "ipython3",
   "version": "3.9.7"
  }
 },
 "nbformat": 4,
 "nbformat_minor": 2
}
