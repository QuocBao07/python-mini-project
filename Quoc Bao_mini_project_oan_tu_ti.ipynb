{
 "cells": [
  {
   "cell_type": "markdown",
   "metadata": {},
   "source": [
    "#### Trong project này chúng ta sẽ mô phỏng lại trò chơi dân gian oẳn tù tì.\n",
    "#### Cụ thể, chúng ta sẽ oẳn tù tì với máy. Máy sẽ chọn random búa, kéo, hoặc lá trong mỗi lần oẳn tù tì.\n",
    "#### Chúng ta sẽ chọn ra búa, kéo hoặc lá sau đó in ra kết quả. Trường hợp người chơi nhập sai, yêu cầu người chơi nhập lại theo đúng chính tả theo 3 sự lựa chọn búa, kéo, hoặc lá.\n",
    "#### Lưu ý, sau mỗi lượt chơi, máy sẽ random chọn lại búa kéo hoặc lá.\n",
    "\n",
    "#### Các kiến thức cover trong mini project này: Array, random, while loop, if else."
   ]
  },
  {
   "cell_type": "code",
   "execution_count": 19,
   "metadata": {},
   "outputs": [],
   "source": [
    "from random import randint"
   ]
  },
  {
   "cell_type": "code",
   "execution_count": 21,
   "metadata": {},
   "outputs": [
    {
     "name": "stdout",
     "output_type": "stream",
     "text": [
      "Bua, Keo, La\n",
      "La\n",
      "-------\n",
      "Player:  La\n",
      "Computer:  Keo\n",
      "Result: \n",
      "Lose\n"
     ]
    }
   ],
   "source": [
    "# tạo array búa, kéo, lá\n",
    "print(\"Bua, Keo, La\")\n",
    "player = input()\n",
    "\n",
    "# máy chọn random\n",
    "computer = randint(0,2)\n",
    "\n",
    "# tạo vòng lặp while để chạy chương trình\n",
    "if computer == 0:\n",
    "   computer = \"Bua\"\n",
    "if computer == 1:\n",
    "   computer = \"Keo\"\n",
    "if computer == 2:\n",
    "   computer = \"La\"\n",
    "print(\"-------\")\n",
    "print(\"Player: \", player)\n",
    "print(\"Computer: \", computer)\n",
    "print(\"Result: \")\n",
    "if computer == player: \n",
    " print(\"Hoa\")\n",
    "else:\n",
    "   if player == \"Bua\":\n",
    "      if computer == \"Keo\":\n",
    "         print(\"Win\")\n",
    "      else:\n",
    "         print(\"Lose\")\n",
    "\n",
    "   elif player == \"La\":\n",
    "      if computer == \"Bua\":\n",
    "         print(\"Win\")\n",
    "      else:\n",
    "         print(\"Lose\")\n",
    "\n",
    "   elif player == \"Keo\":\n",
    "      if computer == \"La\":\n",
    "         print(\"Win\")\n",
    "      else:\n",
    "         print(\"Lose\")\n",
    "\n",
    "   else:\n",
    "     print(\"Wrong typing!\")"
   ]
  },
  {
   "cell_type": "code",
   "execution_count": null,
   "metadata": {},
   "outputs": [],
   "source": []
  }
 ],
 "metadata": {
  "kernelspec": {
   "display_name": "Python 3 (ipykernel)",
   "language": "python",
   "name": "python3"
  },
  "language_info": {
   "codemirror_mode": {
    "name": "ipython",
    "version": 3
   },
   "file_extension": ".py",
   "mimetype": "text/x-python",
   "name": "python",
   "nbconvert_exporter": "python",
   "pygments_lexer": "ipython3",
   "version": "3.9.7"
  }
 },
 "nbformat": 4,
 "nbformat_minor": 2
}
